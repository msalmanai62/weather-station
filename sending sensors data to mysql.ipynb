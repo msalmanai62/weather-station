{
 "cells": [
  {
   "cell_type": "code",
   "execution_count": 6,
   "metadata": {},
   "outputs": [],
   "source": [
    "import serial\n",
    "import MySQLdb\n",
    "import time\n",
    "import mysql.connector"
   ]
  },
  {
   "cell_type": "code",
   "execution_count": 7,
   "metadata": {},
   "outputs": [],
   "source": [
    "mydb = mysql.connector.connect(host = \"localhost\", user = \"root\", password = \"\", database = \"climate predictive analysis\") or die (\"could not connect to database\")\n",
    "\n",
    "mycursor = mydb.cursor()\n"
   ]
  },
  {
   "cell_type": "code",
   "execution_count": 8,
   "metadata": {},
   "outputs": [
    {
     "name": "stdout",
     "output_type": "stream",
     "text": [
      "Trying... COM4\n",
      "Failed to connect on COM4\n"
     ]
    }
   ],
   "source": [
    "device = 'COM4' #this will have to be changed to the serial port you are using\n",
    "try:\n",
    "  print (\"Trying...\", device)\n",
    "  arduino = serial.Serial(port = device, baudrate = 9600)\n",
    "except:\n",
    "  print (\"Failed to connect on\", device)    "
   ]
  },
  {
   "cell_type": "code",
   "execution_count": 2,
   "metadata": {},
   "outputs": [
    {
     "name": "stdout",
     "output_type": "stream",
     "text": [
      "failed\n"
     ]
    }
   ],
   "source": [
    "try:\n",
    "    time.sleep(2)\n",
    "    data = (arduino.readline())  #read the data from the arduino\n",
    "    data = data.decode()\n",
    "    data = data.strip()\n",
    "    print (data)\n",
    "    pieces = data.split(\" \")\n",
    "    print(pieces)\n",
    "except:\n",
    "    print(\"failed\")"
   ]
  },
  {
   "cell_type": "code",
   "execution_count": 5,
   "metadata": {},
   "outputs": [],
   "source": [
    "# try:\n",
    "#     mycursor.execute(\"INSERT INTO sensors_data (Rain, Temperature, Humidity, Pressure) VALUES (%s, %s, %s, %s)\", (pieces[0], pieces[1], pieces[2], pieces[3]))\n",
    "#     mydb.commit() #commit the insert\n",
    "# except MySQLdb.IntegrityError:\n",
    "#     print (\"failed to insert data\")"
   ]
  },
  {
   "cell_type": "code",
   "execution_count": null,
   "metadata": {},
   "outputs": [],
   "source": [
    "while True:\n",
    "    try:\n",
    "      time.sleep(2)\n",
    "      data = (arduino.readline())  #read the data from the arduino\n",
    "      data = data.decode()\n",
    "      data = data.strip()\n",
    "      print (data)\n",
    "      pieces = data.split(\" \")\n",
    "      print(pieces)  #split the data by the tab\n",
    "      #Here we are going to insert the data into the Database\n",
    "      try:\n",
    "        mycursor.execute(\"INSERT INTO sensors_data (Rain, Temperature, Humidity, Pressure) VALUES (%s, %s, %s, %s)\", (pieces[0], pieces[1], pieces[2], pieces[3]))\n",
    "        mydb.commit() #commit the insert\n",
    "##        mycursor.close()  #close the cursor\n",
    "      except MySQLdb.IntegrityError:\n",
    "        print (\"failed to insert data\")\n",
    "##      finally:\n",
    "##        cursor.close()  #close just incase it failed\n",
    "    except:\n",
    "      print (\"Failed to get data from Arduino!\")\n"
   ]
  }
 ],
 "metadata": {
  "interpreter": {
   "hash": "76d7c06053c3456e5600312cec90888656fc0ed30c03d8425b9dac6e4fc8e014"
  },
  "kernelspec": {
   "display_name": "Python 3.10.2 64-bit",
   "language": "python",
   "name": "python3"
  },
  "language_info": {
   "codemirror_mode": {
    "name": "ipython",
    "version": 3
   },
   "file_extension": ".py",
   "mimetype": "text/x-python",
   "name": "python",
   "nbconvert_exporter": "python",
   "pygments_lexer": "ipython3",
   "version": "3.10.2"
  },
  "orig_nbformat": 4
 },
 "nbformat": 4,
 "nbformat_minor": 2
}
