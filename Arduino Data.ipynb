{
 "cells": [
  {
   "cell_type": "markdown",
   "metadata": {},
   "source": [
    "## Importing Libraries"
   ]
  },
  {
   "cell_type": "code",
   "execution_count": 33,
   "metadata": {},
   "outputs": [],
   "source": [
    "\n",
    "import pandas as pd\n",
    "import numpy as np\n",
    "import matplotlib.pyplot as plt\n",
    "import datetime as dt\n",
    "from sklearn.model_selection import train_test_split\n",
    "from sklearn.metrics import confusion_matrix, classification_report, accuracy_score\n",
    "from sklearn import preprocessing\n",
    "from sklearn.preprocessing import StandardScaler\n",
    "from sklearn.ensemble import RandomForestClassifier\n",
    "from sklearn import metrics\n",
    "import mysql.connector"
   ]
  },
  {
   "cell_type": "markdown",
   "metadata": {},
   "source": [
    "## Connect and Read Data from My SQL Server"
   ]
  },
  {
   "cell_type": "code",
   "execution_count": 2,
   "metadata": {},
   "outputs": [],
   "source": [
    "mydb = mysql.connector.connect(host = \"localhost\", user = \"root\", password = \"\", database = \"climate predictive analysis\") or die (\"could not connect to database\")\n",
    "\n",
    "mycursor = mydb.cursor()"
   ]
  },
  {
   "cell_type": "code",
   "execution_count": 132,
   "metadata": {},
   "outputs": [
    {
     "name": "stderr",
     "output_type": "stream",
     "text": [
      "c:\\Users\\Dell\\AppData\\Local\\Programs\\Python\\Python310\\lib\\site-packages\\pandas\\io\\sql.py:761: UserWarning: pandas only support SQLAlchemy connectable(engine/connection) ordatabase string URI or sqlite3 DBAPI2 connectionother DBAPI2 objects are not tested, please consider using SQLAlchemy\n",
      "  warnings.warn(\n"
     ]
    },
    {
     "data": {
      "text/html": [
       "<div>\n",
       "<style scoped>\n",
       "    .dataframe tbody tr th:only-of-type {\n",
       "        vertical-align: middle;\n",
       "    }\n",
       "\n",
       "    .dataframe tbody tr th {\n",
       "        vertical-align: top;\n",
       "    }\n",
       "\n",
       "    .dataframe thead th {\n",
       "        text-align: right;\n",
       "    }\n",
       "</style>\n",
       "<table border=\"1\" class=\"dataframe\">\n",
       "  <thead>\n",
       "    <tr style=\"text-align: right;\">\n",
       "      <th></th>\n",
       "      <th>ID</th>\n",
       "      <th>Rain</th>\n",
       "      <th>Temperature</th>\n",
       "      <th>Humidity</th>\n",
       "      <th>Pressure</th>\n",
       "      <th>Date Time</th>\n",
       "    </tr>\n",
       "  </thead>\n",
       "  <tbody>\n",
       "    <tr>\n",
       "      <th>0</th>\n",
       "      <td>227</td>\n",
       "      <td>0</td>\n",
       "      <td>28</td>\n",
       "      <td>81</td>\n",
       "      <td>491.0</td>\n",
       "      <td>2022-05-27 04:35:43</td>\n",
       "    </tr>\n",
       "    <tr>\n",
       "      <th>1</th>\n",
       "      <td>228</td>\n",
       "      <td>0</td>\n",
       "      <td>28</td>\n",
       "      <td>81</td>\n",
       "      <td>491.0</td>\n",
       "      <td>2022-05-27 04:36:43</td>\n",
       "    </tr>\n",
       "    <tr>\n",
       "      <th>2</th>\n",
       "      <td>229</td>\n",
       "      <td>0</td>\n",
       "      <td>28</td>\n",
       "      <td>82</td>\n",
       "      <td>491.0</td>\n",
       "      <td>2022-05-27 04:37:43</td>\n",
       "    </tr>\n",
       "    <tr>\n",
       "      <th>3</th>\n",
       "      <td>230</td>\n",
       "      <td>0</td>\n",
       "      <td>28</td>\n",
       "      <td>82</td>\n",
       "      <td>491.0</td>\n",
       "      <td>2022-05-27 04:38:43</td>\n",
       "    </tr>\n",
       "    <tr>\n",
       "      <th>4</th>\n",
       "      <td>231</td>\n",
       "      <td>0</td>\n",
       "      <td>28</td>\n",
       "      <td>82</td>\n",
       "      <td>491.0</td>\n",
       "      <td>2022-05-27 04:39:44</td>\n",
       "    </tr>\n",
       "  </tbody>\n",
       "</table>\n",
       "</div>"
      ],
      "text/plain": [
       "    ID  Rain  Temperature  Humidity  Pressure           Date Time\n",
       "0  227     0           28        81     491.0 2022-05-27 04:35:43\n",
       "1  228     0           28        81     491.0 2022-05-27 04:36:43\n",
       "2  229     0           28        82     491.0 2022-05-27 04:37:43\n",
       "3  230     0           28        82     491.0 2022-05-27 04:38:43\n",
       "4  231     0           28        82     491.0 2022-05-27 04:39:44"
      ]
     },
     "execution_count": 132,
     "metadata": {},
     "output_type": "execute_result"
    }
   ],
   "source": [
    "dataframe1 = pd.read_sql(\"SELECT * FROM sensors_data\", con = mydb)\n",
    "dataframe1.head()"
   ]
  },
  {
   "cell_type": "markdown",
   "metadata": {},
   "source": [
    "## Handeling Datetime Column"
   ]
  },
  {
   "cell_type": "code",
   "execution_count": null,
   "metadata": {},
   "outputs": [],
   "source": [
    "dataframe1[\"Year\"] = dataframe1[\"Date Time\"].dt.strftime(\"%Y\")\n",
    "dataframe1[\"Month\"] = dataframe1[\"Date Time\"].dt.strftime(\"%m\")\n",
    "dataframe1[\"Day\"] = dataframe1[\"Date Time\"].dt.strftime(\"%d\")\n",
    "dataframe1[\"Hour\"] = dataframe1[\"Date Time\"].dt.strftime(\"%H\")\n",
    "dataframe1[\"Minute\"] = dataframe1[\"Date Time\"].dt.strftime(\"%M\")\n",
    "dataframe1[\"Second\"] = dataframe1[\"Date Time\"].dt.strftime(\"%S\")"
   ]
  },
  {
   "cell_type": "code",
   "execution_count": 23,
   "metadata": {},
   "outputs": [
    {
     "data": {
      "text/html": [
       "<div>\n",
       "<style scoped>\n",
       "    .dataframe tbody tr th:only-of-type {\n",
       "        vertical-align: middle;\n",
       "    }\n",
       "\n",
       "    .dataframe tbody tr th {\n",
       "        vertical-align: top;\n",
       "    }\n",
       "\n",
       "    .dataframe thead th {\n",
       "        text-align: right;\n",
       "    }\n",
       "</style>\n",
       "<table border=\"1\" class=\"dataframe\">\n",
       "  <thead>\n",
       "    <tr style=\"text-align: right;\">\n",
       "      <th></th>\n",
       "      <th>ID</th>\n",
       "      <th>Rain</th>\n",
       "      <th>Temperature</th>\n",
       "      <th>Humidity</th>\n",
       "      <th>Pressure</th>\n",
       "      <th>Date Time</th>\n",
       "      <th>Year</th>\n",
       "      <th>Month</th>\n",
       "      <th>Day</th>\n",
       "      <th>Hour</th>\n",
       "      <th>Minute</th>\n",
       "      <th>Second</th>\n",
       "    </tr>\n",
       "  </thead>\n",
       "  <tbody>\n",
       "    <tr>\n",
       "      <th>1148</th>\n",
       "      <td>1375</td>\n",
       "      <td>1</td>\n",
       "      <td>29</td>\n",
       "      <td>60</td>\n",
       "      <td>502.0</td>\n",
       "      <td>2022-06-07 15:58:09</td>\n",
       "      <td>2022</td>\n",
       "      <td>06</td>\n",
       "      <td>07</td>\n",
       "      <td>15</td>\n",
       "      <td>58</td>\n",
       "      <td>09</td>\n",
       "    </tr>\n",
       "    <tr>\n",
       "      <th>1149</th>\n",
       "      <td>1376</td>\n",
       "      <td>1</td>\n",
       "      <td>29</td>\n",
       "      <td>60</td>\n",
       "      <td>502.0</td>\n",
       "      <td>2022-06-07 15:58:10</td>\n",
       "      <td>2022</td>\n",
       "      <td>06</td>\n",
       "      <td>07</td>\n",
       "      <td>15</td>\n",
       "      <td>58</td>\n",
       "      <td>10</td>\n",
       "    </tr>\n",
       "    <tr>\n",
       "      <th>1150</th>\n",
       "      <td>1377</td>\n",
       "      <td>1</td>\n",
       "      <td>29</td>\n",
       "      <td>60</td>\n",
       "      <td>502.0</td>\n",
       "      <td>2022-06-07 15:58:11</td>\n",
       "      <td>2022</td>\n",
       "      <td>06</td>\n",
       "      <td>07</td>\n",
       "      <td>15</td>\n",
       "      <td>58</td>\n",
       "      <td>11</td>\n",
       "    </tr>\n",
       "    <tr>\n",
       "      <th>1151</th>\n",
       "      <td>1378</td>\n",
       "      <td>1</td>\n",
       "      <td>29</td>\n",
       "      <td>60</td>\n",
       "      <td>502.0</td>\n",
       "      <td>2022-06-07 15:58:12</td>\n",
       "      <td>2022</td>\n",
       "      <td>06</td>\n",
       "      <td>07</td>\n",
       "      <td>15</td>\n",
       "      <td>58</td>\n",
       "      <td>12</td>\n",
       "    </tr>\n",
       "    <tr>\n",
       "      <th>1152</th>\n",
       "      <td>1379</td>\n",
       "      <td>1</td>\n",
       "      <td>29</td>\n",
       "      <td>60</td>\n",
       "      <td>502.0</td>\n",
       "      <td>2022-06-07 15:58:13</td>\n",
       "      <td>2022</td>\n",
       "      <td>06</td>\n",
       "      <td>07</td>\n",
       "      <td>15</td>\n",
       "      <td>58</td>\n",
       "      <td>13</td>\n",
       "    </tr>\n",
       "  </tbody>\n",
       "</table>\n",
       "</div>"
      ],
      "text/plain": [
       "        ID  Rain  Temperature  Humidity  Pressure           Date Time  Year  \\\n",
       "1148  1375     1           29        60     502.0 2022-06-07 15:58:09  2022   \n",
       "1149  1376     1           29        60     502.0 2022-06-07 15:58:10  2022   \n",
       "1150  1377     1           29        60     502.0 2022-06-07 15:58:11  2022   \n",
       "1151  1378     1           29        60     502.0 2022-06-07 15:58:12  2022   \n",
       "1152  1379     1           29        60     502.0 2022-06-07 15:58:13  2022   \n",
       "\n",
       "     Month Day Hour Minute Second  \n",
       "1148    06  07   15     58     09  \n",
       "1149    06  07   15     58     10  \n",
       "1150    06  07   15     58     11  \n",
       "1151    06  07   15     58     12  \n",
       "1152    06  07   15     58     13  "
      ]
     },
     "execution_count": 23,
     "metadata": {},
     "output_type": "execute_result"
    }
   ],
   "source": [
    "dataframe1.tail()"
   ]
  },
  {
   "cell_type": "markdown",
   "metadata": {},
   "source": [
    "## Visulalizing Orignal Data"
   ]
  },
  {
   "cell_type": "code",
   "execution_count": 7,
   "metadata": {},
   "outputs": [
    {
     "data": {
      "image/png": "[encoded data removed]",
      "text/plain": [
       "<Figure size 432x288 with 3 Axes>"
      ]
     },
     "metadata": {
      "needs_background": "light"
     },
     "output_type": "display_data"
    }
   ],
   "source": [
    "\n",
    "plt.subplot(2, 2, 1)\n",
    "plt.plot(dataframe1[\"Minute\"], dataframe1[\"Temperature\"], label = \"Temperature\", color = \"red\")\n",
    "plt.title('Temperature vs Time')\n",
    "plt.legend()\n",
    "plt.subplot(2, 2, 2)\n",
    "plt.plot(dataframe1[\"Minute\"], dataframe1[\"Pressure\"], label = \"Pressure\", color = \"blue\")\n",
    "plt.title('Presure vs Time')\n",
    "plt.legend()\n",
    "plt.subplot(2, 2, 3)\n",
    "plt.plot(dataframe1[\"Minute\"], dataframe1[\"Humidity\"], label = \"Humidity\", color = \"yellow\")\n",
    "plt.title('Humidity vs Time')\n",
    "plt.legend()\n",
    "plt.show()"
   ]
  },
  {
   "cell_type": "markdown",
   "metadata": {},
   "source": [
    "## Splitting features from targets"
   ]
  },
  {
   "cell_type": "code",
   "execution_count": 8,
   "metadata": {},
   "outputs": [
    {
     "name": "stdout",
     "output_type": "stream",
     "text": [
      "X shape:  (1153, 5)\n",
      "Y shape:  (1153,)\n"
     ]
    }
   ],
   "source": [
    "Y = np.array(dataframe1[\"Temperature\"])\n",
    "X = np.array(dataframe1.iloc[:, 6:11])\n",
    "print(\"X shape: \", X.shape)\n",
    "print(\"Y shape: \", Y.shape)"
   ]
  },
  {
   "cell_type": "markdown",
   "metadata": {},
   "source": [
    "## Splitting Data to Train and Test set"
   ]
  },
  {
   "cell_type": "code",
   "execution_count": 9,
   "metadata": {},
   "outputs": [
    {
     "name": "stdout",
     "output_type": "stream",
     "text": [
      "X_train shape:  (922, 5)\n",
      "X_test shape:  (231, 5)\n",
      "Y_train shape:  (922,)\n",
      "Y_test shape:  (231,)\n"
     ]
    }
   ],
   "source": [
    "X_train, X_test, Y_train, Y_test = train_test_split(X, Y, test_size=0.20, random_state=100)\n",
    "print(\"X_train shape: \", X_train.shape)\n",
    "print(\"X_test shape: \", X_test.shape)\n",
    "print(\"Y_train shape: \", Y_train.shape)\n",
    "print(\"Y_test shape: \", Y_test.shape)"
   ]
  },
  {
   "cell_type": "markdown",
   "metadata": {},
   "source": [
    "## Trainig Random Forest Regressor"
   ]
  },
  {
   "cell_type": "code",
   "execution_count": 10,
   "metadata": {},
   "outputs": [
    {
     "data": {
      "text/html": [
       "<style>#sk-container-id-1 {color: black;background-color: white;}#sk-container-id-1 pre{padding: 0;}#sk-container-id-1 div.sk-toggleable {background-color: white;}#sk-container-id-1 label.sk-toggleable__label {cursor: pointer;display: block;width: 100%;margin-bottom: 0;padding: 0.3em;box-sizing: border-box;text-align: center;}#sk-container-id-1 label.sk-toggleable__label-arrow:before {content: \"▸\";float: left;margin-right: 0.25em;color: #696969;}#sk-container-id-1 label.sk-toggleable__label-arrow:hover:before {color: black;}#sk-container-id-1 div.sk-estimator:hover label.sk-toggleable__label-arrow:before {color: black;}#sk-container-id-1 div.sk-toggleable__content {max-height: 0;max-width: 0;overflow: hidden;text-align: left;background-color: #f0f8ff;}#sk-container-id-1 div.sk-toggleable__content pre {margin: 0.2em;color: black;border-radius: 0.25em;background-color: #f0f8ff;}#sk-container-id-1 input.sk-toggleable__control:checked~div.sk-toggleable__content {max-height: 200px;max-width: 100%;overflow: auto;}#sk-container-id-1 input.sk-toggleable__control:checked~label.sk-toggleable__label-arrow:before {content: \"▾\";}#sk-container-id-1 div.sk-estimator input.sk-toggleable__control:checked~label.sk-toggleable__label {background-color: #d4ebff;}#sk-container-id-1 div.sk-label input.sk-toggleable__control:checked~label.sk-toggleable__label {background-color: #d4ebff;}#sk-container-id-1 input.sk-hidden--visually {border: 0;clip: rect(1px 1px 1px 1px);clip: rect(1px, 1px, 1px, 1px);height: 1px;margin: -1px;overflow: hidden;padding: 0;position: absolute;width: 1px;}#sk-container-id-1 div.sk-estimator {font-family: monospace;background-color: #f0f8ff;border: 1px dotted black;border-radius: 0.25em;box-sizing: border-box;margin-bottom: 0.5em;}#sk-container-id-1 div.sk-estimator:hover {background-color: #d4ebff;}#sk-container-id-1 div.sk-parallel-item::after {content: \"\";width: 100%;border-bottom: 1px solid gray;flex-grow: 1;}#sk-container-id-1 div.sk-label:hover label.sk-toggleable__label {background-color: #d4ebff;}#sk-container-id-1 div.sk-serial::before {content: \"\";position: absolute;border-left: 1px solid gray;box-sizing: border-box;top: 0;bottom: 0;left: 50%;z-index: 0;}#sk-container-id-1 div.sk-serial {display: flex;flex-direction: column;align-items: center;background-color: white;padding-right: 0.2em;padding-left: 0.2em;position: relative;}#sk-container-id-1 div.sk-item {position: relative;z-index: 1;}#sk-container-id-1 div.sk-parallel {display: flex;align-items: stretch;justify-content: center;background-color: white;position: relative;}#sk-container-id-1 div.sk-item::before, #sk-container-id-1 div.sk-parallel-item::before {content: \"\";position: absolute;border-left: 1px solid gray;box-sizing: border-box;top: 0;bottom: 0;left: 50%;z-index: -1;}#sk-container-id-1 div.sk-parallel-item {display: flex;flex-direction: column;z-index: 1;position: relative;background-color: white;}#sk-container-id-1 div.sk-parallel-item:first-child::after {align-self: flex-end;width: 50%;}#sk-container-id-1 div.sk-parallel-item:last-child::after {align-self: flex-start;width: 50%;}#sk-container-id-1 div.sk-parallel-item:only-child::after {width: 0;}#sk-container-id-1 div.sk-dashed-wrapped {border: 1px dashed gray;margin: 0 0.4em 0.5em 0.4em;box-sizing: border-box;padding-bottom: 0.4em;background-color: white;}#sk-container-id-1 div.sk-label label {font-family: monospace;font-weight: bold;display: inline-block;line-height: 1.2em;}#sk-container-id-1 div.sk-label-container {text-align: center;}#sk-container-id-1 div.sk-container {/* jupyter's `normalize.less` sets `[hidden] { display: none; }` but bootstrap.min.css set `[hidden] { display: none !important; }` so we also need the `!important` here to be able to override the default hidden behavior on the sphinx rendered scikit-learn.org. See: https://github.com/scikit-learn/scikit-learn/issues/21755 */display: inline-block !important;position: relative;}#sk-container-id-1 div.sk-text-repr-fallback {display: none;}</style><div id=\"sk-container-id-1\" class=\"sk-top-container\"><div class=\"sk-text-repr-fallback\"><pre>RandomForestRegressor(max_depth=70, n_estimators=300, random_state=100)</pre><b>In a Jupyter environment, please rerun this cell to show the HTML representation or trust the notebook. <br />On GitHub, the HTML representation is unable to render, please try loading this page with nbviewer.org.</b></div><div class=\"sk-container\" hidden><div class=\"sk-item\"><div class=\"sk-estimator sk-toggleable\"><input class=\"sk-toggleable__control sk-hidden--visually\" id=\"sk-estimator-id-1\" type=\"checkbox\" checked><label for=\"sk-estimator-id-1\" class=\"sk-toggleable__label sk-toggleable__label-arrow\">RandomForestRegressor</label><div class=\"sk-toggleable__content\"><pre>RandomForestRegressor(max_depth=70, n_estimators=300, random_state=100)</pre></div></div></div></div></div>"
      ],
      "text/plain": [
       "RandomForestRegressor(max_depth=70, n_estimators=300, random_state=100)"
      ]
     },
     "execution_count": 10,
     "metadata": {},
     "output_type": "execute_result"
    }
   ],
   "source": [
    "regressor = RandomForestRegressor(n_estimators=300, max_depth = 70, random_state=100)\n",
    "regressor.fit(X_train, Y_train)"
   ]
  },
  {
   "cell_type": "markdown",
   "metadata": {},
   "source": [
    "## Making Predictions"
   ]
  },
  {
   "cell_type": "code",
   "execution_count": 11,
   "metadata": {},
   "outputs": [
    {
     "name": "stdout",
     "output_type": "stream",
     "text": [
      "[29.         32.12041211 32.         32.23866139 32.23866139 29.\n",
      " 32.74402212 32.         28.         29.         29.         32.\n",
      " 29.         29.         32.07875895 29.         29.         29.\n",
      " 29.         29.         32.         29.         32.         29.\n",
      " 28.         32.23866139 28.         32.         28.         32.07875895\n",
      " 28.         29.         32.12041211 32.         29.         29.\n",
      " 29.         29.         32.07875895 32.03783607 32.23866139 29.\n",
      " 28.         27.00666667 32.0445309  29.         28.         27.89666667\n",
      " 29.         28.         32.0445309  32.12041211 32.         29.\n",
      " 28.         29.         32.         32.         32.12041211 32.76302311\n",
      " 32.         32.         29.         29.         29.         32.74402212\n",
      " 29.         29.         29.         32.74402212 32.0339629  32.\n",
      " 32.03820145 32.         29.         29.         32.94139377 27.62666667\n",
      " 27.99666667 27.56666667 32.0339629  29.         29.         28.\n",
      " 29.         29.         29.         28.         32.         29.\n",
      " 32.07875895 29.         29.         28.         28.         29.\n",
      " 28.         32.         32.94139377 29.         29.         32.76302311\n",
      " 32.94139377 28.         29.         29.         29.         29.\n",
      " 32.         28.         29.         29.         32.03783607 29.\n",
      " 28.         28.         32.07875895 29.         32.03820145 28.\n",
      " 32.03783607 29.         32.0445309  29.         29.         32.\n",
      " 29.         32.         32.74402212 29.         32.74402212 32.\n",
      " 29.         29.         29.         27.98333333 32.         29.\n",
      " 29.         32.0445309  32.         29.         29.         32.03820145\n",
      " 29.         29.         29.         27.08       28.         29.\n",
      " 32.         29.         29.         29.         32.         32.\n",
      " 32.03820145 32.76302311 27.85333333 28.         29.         29.\n",
      " 32.76302311 29.         32.23866139 29.         32.0445309  29.\n",
      " 29.         28.         32.0445309  28.         29.         32.\n",
      " 32.         29.         29.         28.         29.         32.74402212\n",
      " 29.         32.94139377 27.99333333 32.         27.03333333 29.\n",
      " 29.         32.0339629  29.         32.         32.0445309  29.\n",
      " 29.         32.03783607 29.         28.         29.         32.03820145\n",
      " 29.         29.         29.         28.         28.         29.\n",
      " 27.99666667 29.         32.         28.         32.03820145 29.\n",
      " 29.         28.         29.         32.         29.         27.99333333\n",
      " 29.         32.94139377 29.         28.         32.         32.74402212\n",
      " 29.         29.         29.         32.94139377 29.         29.\n",
      " 29.         29.         32.        ]\n"
     ]
    }
   ],
   "source": [
    "predictData = regressor.predict(X_test)\n",
    "print(predictData)"
   ]
  },
  {
   "cell_type": "markdown",
   "metadata": {},
   "source": [
    "## Testing Our Model"
   ]
  },
  {
   "cell_type": "code",
   "execution_count": 12,
   "metadata": {},
   "outputs": [
    {
     "name": "stdout",
     "output_type": "stream",
     "text": [
      "[29 32 32 32 32 29 32 32 28 29 29 32 29 29 32 29 29 29 29 29 32 29 32 29\n",
      " 28 32 28 32 28 32 28 29 32 32 29 29 29 29 32 32 32 29 28 27 32 29 28 27\n",
      " 29 28 32 32 32 29 28 29 32 32 32 32 32 32 29 29 29 32 29 29 29 32 32 32\n",
      " 32 32 29 29 32 27 27 27 32 29 29 28 29 29 29 28 32 29 32 29 29 28 28 29\n",
      " 28 32 32 29 29 32 32 28 29 29 29 29 32 28 29 29 32 29 28 28 32 29 32 28\n",
      " 32 29 32 29 29 32 29 32 32 29 32 32 29 29 29 27 32 29 29 32 32 29 29 32\n",
      " 29 29 29 27 28 29 32 29 29 29 32 32 32 32 27 28 29 29 32 29 32 29 32 29\n",
      " 29 28 32 28 29 32 32 29 29 28 29 32 29 32 27 32 27 29 29 32 29 32 32 29\n",
      " 29 32 29 28 29 32 29 29 29 28 28 29 27 29 32 28 32 29 29 28 29 32 29 27\n",
      " 29 32 29 28 32 32 29 29 29 32 29 29 29 29 32]\n",
      "Mean Absolute Error: 0.055927806823122476\n",
      "Mean Squared Error: 0.031292316138297284\n",
      "Root Mean Squared Error: 0.17689634291951115\n"
     ]
    }
   ],
   "source": [
    "print(predictData.astype(int))\n",
    "print('Mean Absolute Error:', metrics.mean_absolute_error(Y_test, predictData))\n",
    "#Mean Absolute Error calculates the average difference between the calculated values and actual values\n",
    "#It is used to predict the accuracy of the machine learning model.\n",
    "\n",
    "print('Mean Squared Error:', metrics.mean_squared_error(Y_test, predictData))\n",
    "# the average squared difference between the estimated values and true value. \n",
    "\n",
    "print('Root Mean Squared Error:', np.sqrt(metrics.mean_squared_error(Y_test, predictData)))"
   ]
  },
  {
   "cell_type": "code",
   "execution_count": 13,
   "metadata": {},
   "outputs": [
    {
     "data": {
      "image/png": "[encoded data removed]",
      "text/plain": [
       "<Figure size 432x288 with 1 Axes>"
      ]
     },
     "metadata": {
      "needs_background": "light"
     },
     "output_type": "display_data"
    }
   ],
   "source": [
    "## Visualize Predicted output vs Actual output\n",
    "import matplotlib.pyplot as plt\n",
    "plt.plot(predictData, color = \"yellow\")\n",
    "plt.plot(Y_test, color = \"red\")\n",
    "\n",
    "plt.show()"
   ]
  },
  {
   "cell_type": "markdown",
   "metadata": {},
   "source": [
    "## Loading Model And Making Predictions"
   ]
  },
  {
   "cell_type": "code",
   "execution_count": 182,
   "metadata": {},
   "outputs": [],
   "source": [
    "import joblib\n",
    "temp_model = joblib.load(\"RandomForestRegressorTemperature.joblib\")"
   ]
  },
  {
   "cell_type": "code",
   "execution_count": 183,
   "metadata": {},
   "outputs": [
    {
     "name": "stdout",
     "output_type": "stream",
     "text": [
      "(2022, 6, 17, 11, 0)\n"
     ]
    }
   ],
   "source": [
    "day1 = 2022, 6, 17, 11, 00\n",
    "day2 = 2022, 6, 18, 11, 00\n",
    "day3 = 2022, 6, 19, 11, 00\n",
    "day4 = 2022, 6, 20, 11, 00\n",
    "print(day1)"
   ]
  },
  {
   "cell_type": "code",
   "execution_count": 184,
   "metadata": {},
   "outputs": [
    {
     "data": {
      "text/plain": [
       "array([29.])"
      ]
     },
     "execution_count": 184,
     "metadata": {},
     "output_type": "execute_result"
    }
   ],
   "source": [
    "temp_model.predict([list(day1)])"
   ]
  },
  {
   "cell_type": "markdown",
   "metadata": {},
   "source": [
    "# Rain Prediction Model"
   ]
  },
  {
   "cell_type": "code",
   "execution_count": 133,
   "metadata": {},
   "outputs": [
    {
     "name": "stderr",
     "output_type": "stream",
     "text": [
      "c:\\Users\\Dell\\AppData\\Local\\Programs\\Python\\Python310\\lib\\site-packages\\pandas\\io\\sql.py:761: UserWarning: pandas only support SQLAlchemy connectable(engine/connection) ordatabase string URI or sqlite3 DBAPI2 connectionother DBAPI2 objects are not tested, please consider using SQLAlchemy\n",
      "  warnings.warn(\n"
     ]
    }
   ],
   "source": [
    "dataset = pd.read_sql(\"SELECT * FROM sensors_data\", con = mydb)"
   ]
  },
  {
   "cell_type": "code",
   "execution_count": 134,
   "metadata": {},
   "outputs": [
    {
     "data": {
      "text/html": [
       "<div>\n",
       "<style scoped>\n",
       "    .dataframe tbody tr th:only-of-type {\n",
       "        vertical-align: middle;\n",
       "    }\n",
       "\n",
       "    .dataframe tbody tr th {\n",
       "        vertical-align: top;\n",
       "    }\n",
       "\n",
       "    .dataframe thead th {\n",
       "        text-align: right;\n",
       "    }\n",
       "</style>\n",
       "<table border=\"1\" class=\"dataframe\">\n",
       "  <thead>\n",
       "    <tr style=\"text-align: right;\">\n",
       "      <th></th>\n",
       "      <th>ID</th>\n",
       "      <th>Rain</th>\n",
       "      <th>Temperature</th>\n",
       "      <th>Humidity</th>\n",
       "      <th>Pressure</th>\n",
       "      <th>Date Time</th>\n",
       "    </tr>\n",
       "  </thead>\n",
       "  <tbody>\n",
       "    <tr>\n",
       "      <th>1148</th>\n",
       "      <td>1375</td>\n",
       "      <td>1</td>\n",
       "      <td>29</td>\n",
       "      <td>60</td>\n",
       "      <td>502.0</td>\n",
       "      <td>2022-06-07 15:58:09</td>\n",
       "    </tr>\n",
       "    <tr>\n",
       "      <th>1149</th>\n",
       "      <td>1376</td>\n",
       "      <td>1</td>\n",
       "      <td>29</td>\n",
       "      <td>60</td>\n",
       "      <td>502.0</td>\n",
       "      <td>2022-06-07 15:58:10</td>\n",
       "    </tr>\n",
       "    <tr>\n",
       "      <th>1150</th>\n",
       "      <td>1377</td>\n",
       "      <td>1</td>\n",
       "      <td>29</td>\n",
       "      <td>60</td>\n",
       "      <td>502.0</td>\n",
       "      <td>2022-06-07 15:58:11</td>\n",
       "    </tr>\n",
       "    <tr>\n",
       "      <th>1151</th>\n",
       "      <td>1378</td>\n",
       "      <td>1</td>\n",
       "      <td>29</td>\n",
       "      <td>60</td>\n",
       "      <td>502.0</td>\n",
       "      <td>2022-06-07 15:58:12</td>\n",
       "    </tr>\n",
       "    <tr>\n",
       "      <th>1152</th>\n",
       "      <td>1379</td>\n",
       "      <td>1</td>\n",
       "      <td>29</td>\n",
       "      <td>60</td>\n",
       "      <td>502.0</td>\n",
       "      <td>2022-06-07 15:58:13</td>\n",
       "    </tr>\n",
       "  </tbody>\n",
       "</table>\n",
       "</div>"
      ],
      "text/plain": [
       "        ID  Rain  Temperature  Humidity  Pressure           Date Time\n",
       "1148  1375     1           29        60     502.0 2022-06-07 15:58:09\n",
       "1149  1376     1           29        60     502.0 2022-06-07 15:58:10\n",
       "1150  1377     1           29        60     502.0 2022-06-07 15:58:11\n",
       "1151  1378     1           29        60     502.0 2022-06-07 15:58:12\n",
       "1152  1379     1           29        60     502.0 2022-06-07 15:58:13"
      ]
     },
     "execution_count": 134,
     "metadata": {},
     "output_type": "execute_result"
    }
   ],
   "source": [
    "dataset.tail()"
   ]
  },
  {
   "cell_type": "code",
   "execution_count": 135,
   "metadata": {},
   "outputs": [],
   "source": [
    "dataset1 = dataset.copy()"
   ]
  },
  {
   "cell_type": "code",
   "execution_count": 136,
   "metadata": {},
   "outputs": [],
   "source": [
    "dataset1 = dataset1.drop([\"ID\", \"Date Time\"], axis = 1)"
   ]
  },
  {
   "cell_type": "code",
   "execution_count": 137,
   "metadata": {},
   "outputs": [
    {
     "data": {
      "text/html": [
       "<div>\n",
       "<style scoped>\n",
       "    .dataframe tbody tr th:only-of-type {\n",
       "        vertical-align: middle;\n",
       "    }\n",
       "\n",
       "    .dataframe tbody tr th {\n",
       "        vertical-align: top;\n",
       "    }\n",
       "\n",
       "    .dataframe thead th {\n",
       "        text-align: right;\n",
       "    }\n",
       "</style>\n",
       "<table border=\"1\" class=\"dataframe\">\n",
       "  <thead>\n",
       "    <tr style=\"text-align: right;\">\n",
       "      <th></th>\n",
       "      <th>Rain</th>\n",
       "      <th>Temperature</th>\n",
       "      <th>Humidity</th>\n",
       "      <th>Pressure</th>\n",
       "    </tr>\n",
       "  </thead>\n",
       "  <tbody>\n",
       "    <tr>\n",
       "      <th>0</th>\n",
       "      <td>0</td>\n",
       "      <td>28</td>\n",
       "      <td>81</td>\n",
       "      <td>491.0</td>\n",
       "    </tr>\n",
       "    <tr>\n",
       "      <th>1</th>\n",
       "      <td>0</td>\n",
       "      <td>28</td>\n",
       "      <td>81</td>\n",
       "      <td>491.0</td>\n",
       "    </tr>\n",
       "    <tr>\n",
       "      <th>2</th>\n",
       "      <td>0</td>\n",
       "      <td>28</td>\n",
       "      <td>82</td>\n",
       "      <td>491.0</td>\n",
       "    </tr>\n",
       "    <tr>\n",
       "      <th>3</th>\n",
       "      <td>0</td>\n",
       "      <td>28</td>\n",
       "      <td>82</td>\n",
       "      <td>491.0</td>\n",
       "    </tr>\n",
       "    <tr>\n",
       "      <th>4</th>\n",
       "      <td>0</td>\n",
       "      <td>28</td>\n",
       "      <td>82</td>\n",
       "      <td>491.0</td>\n",
       "    </tr>\n",
       "  </tbody>\n",
       "</table>\n",
       "</div>"
      ],
      "text/plain": [
       "   Rain  Temperature  Humidity  Pressure\n",
       "0     0           28        81     491.0\n",
       "1     0           28        81     491.0\n",
       "2     0           28        82     491.0\n",
       "3     0           28        82     491.0\n",
       "4     0           28        82     491.0"
      ]
     },
     "execution_count": 137,
     "metadata": {},
     "output_type": "execute_result"
    }
   ],
   "source": [
    "dataset1.head()"
   ]
  },
  {
   "cell_type": "code",
   "execution_count": 138,
   "metadata": {},
   "outputs": [
    {
     "name": "stdout",
     "output_type": "stream",
     "text": [
      "Rain Rows:  476\n",
      "Not Raining Rows:  677\n"
     ]
    }
   ],
   "source": [
    "print(\"Rain Rows: \", (dataset1[\"Rain\"]==1).sum())\n",
    "print(\"Not Raining Rows: \", (dataset1[\"Rain\"]==0).sum())"
   ]
  },
  {
   "cell_type": "code",
   "execution_count": 139,
   "metadata": {},
   "outputs": [
    {
     "data": {
      "text/plain": [
       "CategoricalDtype(categories=[0, 1], ordered=False)"
      ]
     },
     "execution_count": 139,
     "metadata": {},
     "output_type": "execute_result"
    }
   ],
   "source": [
    "dataset1[\"Rain\"] = dataset1[\"Rain\"].astype(\"category\")\n",
    "dataset1[\"Rain\"].dtype"
   ]
  },
  {
   "cell_type": "code",
   "execution_count": 140,
   "metadata": {},
   "outputs": [],
   "source": [
    "y = dataset1.iloc[:, 0]\n",
    "x = dataset1.iloc[:, 1:]\n",
    "y = np.array(y)\n",
    "x = np.array(x)"
   ]
  },
  {
   "cell_type": "code",
   "execution_count": 141,
   "metadata": {},
   "outputs": [],
   "source": [
    "x_train, x_test, y_train, y_test = train_test_split(x, y, test_size=0.3, random_state=70, shuffle = True)"
   ]
  },
  {
   "cell_type": "code",
   "execution_count": 149,
   "metadata": {},
   "outputs": [],
   "source": [
    "scalar = preprocessing.MinMaxScaler()\n",
    "x_train = scalar.fit_transform(x_train)\n",
    "x_test = scalar.fit_transform(x_test)"
   ]
  },
  {
   "cell_type": "code",
   "execution_count": 150,
   "metadata": {},
   "outputs": [
    {
     "name": "stdout",
     "output_type": "stream",
     "text": [
      "x_train shape:  (807, 3)\n",
      "y_train shape:  (807,)\n",
      "x_test shape:  (346, 3)\n",
      "y_test shape:  (346,)\n"
     ]
    }
   ],
   "source": [
    "print(\"x_train shape: \", x_train.shape)\n",
    "print(\"y_train shape: \", y_train.shape)\n",
    "print(\"x_test shape: \", x_test.shape)\n",
    "print(\"y_test shape: \", y_test.shape)"
   ]
  },
  {
   "cell_type": "code",
   "execution_count": 101,
   "metadata": {},
   "outputs": [],
   "source": [
    "import tensorflow as tf\n",
    "from tensorflow import keras"
   ]
  },
  {
   "cell_type": "code",
   "execution_count": 151,
   "metadata": {},
   "outputs": [],
   "source": [
    "rain_forecast_model = tf.keras.models.Sequential()"
   ]
  },
  {
   "cell_type": "code",
   "execution_count": 152,
   "metadata": {},
   "outputs": [],
   "source": [
    "rain_forecast_model.add(keras.layers.Dense(units=16, input_shape = (3,), activation = \"tanh\"))\n",
    "# rain_forecast_model.add(keras.layers.BatchNormalization())\n",
    "rain_forecast_model.add(keras.layers.Dense(units=32, activation = \"tanh\"))\n",
    "rain_forecast_model.add(keras.layers.Dense(units=64, activation = \"tanh\"))\n",
    "rain_forecast_model.add(keras.layers.Dropout(0.5))\n",
    "rain_forecast_model.add(keras.layers.Dense(units=1, activation = \"sigmoid\"))"
   ]
  },
  {
   "cell_type": "code",
   "execution_count": 153,
   "metadata": {},
   "outputs": [],
   "source": [
    "opt = tf.keras.optimizers.RMSprop(learning_rate = 0.0001)\n",
    "losss = keras.losses.BinaryCrossentropy()\n",
    "rain_forecast_model.compile(loss =losss, optimizer = opt, metrics = [\"accuracy\"])"
   ]
  },
  {
   "cell_type": "code",
   "execution_count": 154,
   "metadata": {},
   "outputs": [
    {
     "name": "stdout",
     "output_type": "stream",
     "text": [
      "Model: \"sequential_6\"\n",
      "_________________________________________________________________\n",
      " Layer (type)                Output Shape              Param #   \n",
      "=================================================================\n",
      " dense_16 (Dense)            (None, 16)                64        \n",
      "                                                                 \n",
      " dense_17 (Dense)            (None, 32)                544       \n",
      "                                                                 \n",
      " dense_18 (Dense)            (None, 64)                2112      \n",
      "                                                                 \n",
      " dropout_4 (Dropout)         (None, 64)                0         \n",
      "                                                                 \n",
      " dense_19 (Dense)            (None, 1)                 65        \n",
      "                                                                 \n",
      "=================================================================\n",
      "Total params: 2,785\n",
      "Trainable params: 2,785\n",
      "Non-trainable params: 0\n",
      "_________________________________________________________________\n"
     ]
    }
   ],
   "source": [
    "rain_forecast_model.summary()"
   ]
  },
  {
   "cell_type": "code",
   "execution_count": 155,
   "metadata": {},
   "outputs": [
    {
     "name": "stdout",
     "output_type": "stream",
     "text": [
      "Epoch 1/200\n",
      "18/18 [==============================] - 1s 15ms/step - loss: 0.7190 - accuracy: 0.4504 - val_loss: 0.7164 - val_accuracy: 0.4033\n",
      "Epoch 2/200\n",
      "18/18 [==============================] - 0s 6ms/step - loss: 0.7085 - accuracy: 0.5124 - val_loss: 0.7022 - val_accuracy: 0.4033\n",
      "Epoch 3/200\n",
      "18/18 [==============================] - 0s 6ms/step - loss: 0.6973 - accuracy: 0.5106 - val_loss: 0.6922 - val_accuracy: 0.4033\n",
      "Epoch 4/200\n",
      "18/18 [==============================] - 0s 7ms/step - loss: 0.6922 - accuracy: 0.5195 - val_loss: 0.6839 - val_accuracy: 0.4321\n",
      "Epoch 5/200\n",
      "18/18 [==============================] - 0s 6ms/step - loss: 0.6847 - accuracy: 0.5514 - val_loss: 0.6768 - val_accuracy: 0.4321\n",
      "Epoch 6/200\n",
      "18/18 [==============================] - 0s 6ms/step - loss: 0.6767 - accuracy: 0.5904 - val_loss: 0.6699 - val_accuracy: 0.4403\n",
      "Epoch 7/200\n",
      "18/18 [==============================] - 0s 6ms/step - loss: 0.6692 - accuracy: 0.5762 - val_loss: 0.6640 - val_accuracy: 0.5802\n",
      "Epoch 8/200\n",
      "18/18 [==============================] - 0s 6ms/step - loss: 0.6663 - accuracy: 0.5656 - val_loss: 0.6591 - val_accuracy: 0.4527\n",
      "Epoch 9/200\n",
      "18/18 [==============================] - 0s 6ms/step - loss: 0.6736 - accuracy: 0.5372 - val_loss: 0.6549 - val_accuracy: 0.4403\n",
      "Epoch 10/200\n",
      "18/18 [==============================] - 0s 6ms/step - loss: 0.6638 - accuracy: 0.5638 - val_loss: 0.6510 - val_accuracy: 0.4321\n",
      "Epoch 11/200\n",
      "18/18 [==============================] - 0s 6ms/step - loss: 0.6660 - accuracy: 0.5284 - val_loss: 0.6477 - val_accuracy: 0.4321\n",
      "Epoch 12/200\n",
      "18/18 [==============================] - 0s 6ms/step - loss: 0.6631 - accuracy: 0.5372 - val_loss: 0.6444 - val_accuracy: 0.4321\n",
      "Epoch 13/200\n",
      "18/18 [==============================] - 0s 7ms/step - loss: 0.6517 - accuracy: 0.5479 - val_loss: 0.6413 - val_accuracy: 0.4321\n",
      "Epoch 14/200\n",
      "18/18 [==============================] - 0s 5ms/step - loss: 0.6559 - accuracy: 0.5089 - val_loss: 0.6387 - val_accuracy: 0.4321\n",
      "Epoch 15/200\n",
      "18/18 [==============================] - 0s 5ms/step - loss: 0.6512 - accuracy: 0.5230 - val_loss: 0.6362 - val_accuracy: 0.4321\n",
      "Epoch 16/200\n",
      "18/18 [==============================] - 0s 6ms/step - loss: 0.6477 - accuracy: 0.5213 - val_loss: 0.6336 - val_accuracy: 0.4321\n",
      "Epoch 17/200\n",
      "18/18 [==============================] - 0s 5ms/step - loss: 0.6387 - accuracy: 0.5319 - val_loss: 0.6312 - val_accuracy: 0.4321\n",
      "Epoch 18/200\n",
      "18/18 [==============================] - 0s 6ms/step - loss: 0.6384 - accuracy: 0.5390 - val_loss: 0.6285 - val_accuracy: 0.4321\n",
      "Epoch 19/200\n",
      "18/18 [==============================] - 0s 5ms/step - loss: 0.6366 - accuracy: 0.5337 - val_loss: 0.6260 - val_accuracy: 0.4321\n",
      "Epoch 20/200\n",
      "18/18 [==============================] - 0s 6ms/step - loss: 0.6366 - accuracy: 0.5319 - val_loss: 0.6236 - val_accuracy: 0.4321\n",
      "Epoch 21/200\n",
      "18/18 [==============================] - 0s 5ms/step - loss: 0.6322 - accuracy: 0.5195 - val_loss: 0.6217 - val_accuracy: 0.4321\n",
      "Epoch 22/200\n",
      "18/18 [==============================] - 0s 5ms/step - loss: 0.6263 - accuracy: 0.5284 - val_loss: 0.6193 - val_accuracy: 0.4321\n",
      "Epoch 23/200\n",
      "18/18 [==============================] - 0s 7ms/step - loss: 0.6232 - accuracy: 0.5372 - val_loss: 0.6173 - val_accuracy: 0.4321\n",
      "Epoch 24/200\n",
      "18/18 [==============================] - 0s 6ms/step - loss: 0.6235 - accuracy: 0.5408 - val_loss: 0.6152 - val_accuracy: 0.4321\n",
      "Epoch 25/200\n",
      "18/18 [==============================] - 0s 6ms/step - loss: 0.6326 - accuracy: 0.5089 - val_loss: 0.6132 - val_accuracy: 0.4321\n",
      "Epoch 26/200\n",
      "18/18 [==============================] - 0s 5ms/step - loss: 0.6212 - accuracy: 0.5319 - val_loss: 0.6113 - val_accuracy: 0.4321\n",
      "Epoch 27/200\n",
      "18/18 [==============================] - 0s 6ms/step - loss: 0.6221 - accuracy: 0.5266 - val_loss: 0.6092 - val_accuracy: 0.4321\n",
      "Epoch 28/200\n",
      "18/18 [==============================] - 0s 5ms/step - loss: 0.6156 - accuracy: 0.5496 - val_loss: 0.6073 - val_accuracy: 0.4321\n",
      "Epoch 29/200\n",
      "18/18 [==============================] - 0s 5ms/step - loss: 0.6160 - accuracy: 0.5532 - val_loss: 0.6054 - val_accuracy: 0.4321\n",
      "Epoch 30/200\n",
      "18/18 [==============================] - 0s 5ms/step - loss: 0.6089 - accuracy: 0.5603 - val_loss: 0.6034 - val_accuracy: 0.4321\n",
      "Epoch 31/200\n",
      "18/18 [==============================] - 0s 5ms/step - loss: 0.6129 - accuracy: 0.5443 - val_loss: 0.6017 - val_accuracy: 0.4321\n",
      "Epoch 32/200\n",
      "18/18 [==============================] - 0s 6ms/step - loss: 0.6128 - accuracy: 0.5567 - val_loss: 0.5998 - val_accuracy: 0.4321\n",
      "Epoch 33/200\n",
      "18/18 [==============================] - 0s 5ms/step - loss: 0.6101 - accuracy: 0.5621 - val_loss: 0.5975 - val_accuracy: 0.4321\n",
      "Epoch 34/200\n",
      "18/18 [==============================] - 0s 5ms/step - loss: 0.6075 - accuracy: 0.5585 - val_loss: 0.5954 - val_accuracy: 0.4321\n",
      "Epoch 35/200\n",
      "18/18 [==============================] - 0s 5ms/step - loss: 0.5978 - accuracy: 0.5993 - val_loss: 0.5935 - val_accuracy: 0.4321\n",
      "Epoch 36/200\n",
      "18/18 [==============================] - 0s 5ms/step - loss: 0.6068 - accuracy: 0.5780 - val_loss: 0.5918 - val_accuracy: 0.4403\n",
      "Epoch 37/200\n",
      "18/18 [==============================] - 0s 5ms/step - loss: 0.6015 - accuracy: 0.5922 - val_loss: 0.5901 - val_accuracy: 0.4403\n",
      "Epoch 38/200\n",
      "18/18 [==============================] - 0s 6ms/step - loss: 0.5990 - accuracy: 0.6064 - val_loss: 0.5878 - val_accuracy: 0.4403\n",
      "Epoch 39/200\n",
      "18/18 [==============================] - 0s 8ms/step - loss: 0.6012 - accuracy: 0.5887 - val_loss: 0.5860 - val_accuracy: 0.4403\n",
      "Epoch 40/200\n",
      "18/18 [==============================] - 0s 8ms/step - loss: 0.5983 - accuracy: 0.5957 - val_loss: 0.5842 - val_accuracy: 0.4403\n",
      "Epoch 41/200\n",
      "18/18 [==============================] - 0s 7ms/step - loss: 0.5894 - accuracy: 0.6188 - val_loss: 0.5821 - val_accuracy: 0.4403\n",
      "Epoch 42/200\n",
      "18/18 [==============================] - 0s 7ms/step - loss: 0.5961 - accuracy: 0.6152 - val_loss: 0.5799 - val_accuracy: 0.4403\n",
      "Epoch 43/200\n",
      "18/18 [==============================] - 0s 7ms/step - loss: 0.5935 - accuracy: 0.6011 - val_loss: 0.5775 - val_accuracy: 0.5432\n",
      "Epoch 44/200\n",
      "18/18 [==============================] - 0s 7ms/step - loss: 0.5937 - accuracy: 0.6046 - val_loss: 0.5751 - val_accuracy: 0.5432\n",
      "Epoch 45/200\n",
      "18/18 [==============================] - 0s 7ms/step - loss: 0.5885 - accuracy: 0.6099 - val_loss: 0.5729 - val_accuracy: 0.5597\n",
      "Epoch 46/200\n",
      "18/18 [==============================] - 0s 5ms/step - loss: 0.5840 - accuracy: 0.6188 - val_loss: 0.5707 - val_accuracy: 0.7984\n",
      "Epoch 47/200\n",
      "18/18 [==============================] - 0s 5ms/step - loss: 0.5812 - accuracy: 0.6294 - val_loss: 0.5681 - val_accuracy: 0.7984\n",
      "Epoch 48/200\n",
      "18/18 [==============================] - 0s 5ms/step - loss: 0.5783 - accuracy: 0.6401 - val_loss: 0.5655 - val_accuracy: 0.7984\n",
      "Epoch 49/200\n",
      "18/18 [==============================] - 0s 6ms/step - loss: 0.5765 - accuracy: 0.6241 - val_loss: 0.5630 - val_accuracy: 0.7984\n",
      "Epoch 50/200\n",
      "18/18 [==============================] - 0s 6ms/step - loss: 0.5761 - accuracy: 0.6543 - val_loss: 0.5604 - val_accuracy: 0.7984\n",
      "Epoch 51/200\n",
      "18/18 [==============================] - 0s 6ms/step - loss: 0.5726 - accuracy: 0.6489 - val_loss: 0.5578 - val_accuracy: 0.7901\n",
      "Epoch 52/200\n",
      "18/18 [==============================] - 0s 7ms/step - loss: 0.5733 - accuracy: 0.6667 - val_loss: 0.5552 - val_accuracy: 0.7901\n",
      "Epoch 53/200\n",
      "18/18 [==============================] - 0s 6ms/step - loss: 0.5634 - accuracy: 0.6684 - val_loss: 0.5526 - val_accuracy: 0.7901\n",
      "Epoch 54/200\n",
      "18/18 [==============================] - 0s 5ms/step - loss: 0.5574 - accuracy: 0.6986 - val_loss: 0.5499 - val_accuracy: 0.7901\n",
      "Epoch 55/200\n",
      "18/18 [==============================] - 0s 5ms/step - loss: 0.5557 - accuracy: 0.7323 - val_loss: 0.5470 - val_accuracy: 0.7901\n",
      "Epoch 56/200\n",
      "18/18 [==============================] - 0s 5ms/step - loss: 0.5526 - accuracy: 0.7145 - val_loss: 0.5443 - val_accuracy: 0.7901\n",
      "Epoch 57/200\n",
      "18/18 [==============================] - 0s 5ms/step - loss: 0.5524 - accuracy: 0.7358 - val_loss: 0.5410 - val_accuracy: 0.7901\n",
      "Epoch 58/200\n",
      "18/18 [==============================] - 0s 5ms/step - loss: 0.5497 - accuracy: 0.7181 - val_loss: 0.5377 - val_accuracy: 0.7901\n",
      "Epoch 59/200\n",
      "18/18 [==============================] - 0s 6ms/step - loss: 0.5453 - accuracy: 0.7128 - val_loss: 0.5348 - val_accuracy: 0.7901\n",
      "Epoch 60/200\n",
      "18/18 [==============================] - 0s 8ms/step - loss: 0.5486 - accuracy: 0.7252 - val_loss: 0.5314 - val_accuracy: 0.7901\n",
      "Epoch 61/200\n",
      "18/18 [==============================] - 0s 7ms/step - loss: 0.5319 - accuracy: 0.7447 - val_loss: 0.5283 - val_accuracy: 0.7901\n",
      "Epoch 62/200\n",
      "18/18 [==============================] - 0s 8ms/step - loss: 0.5319 - accuracy: 0.7411 - val_loss: 0.5252 - val_accuracy: 0.7901\n",
      "Epoch 63/200\n",
      "18/18 [==============================] - 0s 5ms/step - loss: 0.5353 - accuracy: 0.7234 - val_loss: 0.5221 - val_accuracy: 0.7901\n",
      "Epoch 64/200\n",
      "18/18 [==============================] - 0s 6ms/step - loss: 0.5348 - accuracy: 0.7394 - val_loss: 0.5188 - val_accuracy: 0.7901\n",
      "Epoch 65/200\n",
      "18/18 [==============================] - 0s 5ms/step - loss: 0.5302 - accuracy: 0.7482 - val_loss: 0.5156 - val_accuracy: 0.7901\n",
      "Epoch 66/200\n",
      "18/18 [==============================] - 0s 5ms/step - loss: 0.5320 - accuracy: 0.7429 - val_loss: 0.5117 - val_accuracy: 0.7901\n",
      "Epoch 67/200\n",
      "18/18 [==============================] - 0s 7ms/step - loss: 0.5274 - accuracy: 0.7411 - val_loss: 0.5084 - val_accuracy: 0.7901\n",
      "Epoch 68/200\n",
      "18/18 [==============================] - 0s 6ms/step - loss: 0.5185 - accuracy: 0.7642 - val_loss: 0.5054 - val_accuracy: 0.7901\n",
      "Epoch 69/200\n",
      "18/18 [==============================] - 0s 7ms/step - loss: 0.5235 - accuracy: 0.7571 - val_loss: 0.5019 - val_accuracy: 0.7901\n",
      "Epoch 70/200\n",
      "18/18 [==============================] - 0s 6ms/step - loss: 0.5168 - accuracy: 0.7766 - val_loss: 0.4986 - val_accuracy: 0.7901\n",
      "Epoch 71/200\n",
      "18/18 [==============================] - 0s 5ms/step - loss: 0.5098 - accuracy: 0.7801 - val_loss: 0.4947 - val_accuracy: 0.7901\n",
      "Epoch 72/200\n",
      "18/18 [==============================] - 0s 5ms/step - loss: 0.5049 - accuracy: 0.7943 - val_loss: 0.4908 - val_accuracy: 0.7901\n",
      "Epoch 73/200\n",
      "18/18 [==============================] - 0s 6ms/step - loss: 0.5024 - accuracy: 0.8067 - val_loss: 0.4869 - val_accuracy: 0.7901\n",
      "Epoch 74/200\n",
      "18/18 [==============================] - 0s 7ms/step - loss: 0.5045 - accuracy: 0.7908 - val_loss: 0.4829 - val_accuracy: 0.7901\n",
      "Epoch 75/200\n",
      "18/18 [==============================] - 0s 7ms/step - loss: 0.4932 - accuracy: 0.7943 - val_loss: 0.4788 - val_accuracy: 0.7901\n",
      "Epoch 76/200\n",
      "18/18 [==============================] - 0s 7ms/step - loss: 0.4965 - accuracy: 0.7996 - val_loss: 0.4746 - val_accuracy: 0.7901\n",
      "Epoch 77/200\n",
      "18/18 [==============================] - 0s 7ms/step - loss: 0.4901 - accuracy: 0.8103 - val_loss: 0.4704 - val_accuracy: 0.7901\n",
      "Epoch 78/200\n",
      "18/18 [==============================] - 0s 6ms/step - loss: 0.4891 - accuracy: 0.8067 - val_loss: 0.4659 - val_accuracy: 0.7901\n",
      "Epoch 79/200\n",
      "18/18 [==============================] - 0s 6ms/step - loss: 0.4773 - accuracy: 0.8333 - val_loss: 0.4616 - val_accuracy: 0.7901\n",
      "Epoch 80/200\n",
      "18/18 [==============================] - 0s 7ms/step - loss: 0.4719 - accuracy: 0.8457 - val_loss: 0.4574 - val_accuracy: 0.7901\n",
      "Epoch 81/200\n",
      "18/18 [==============================] - 0s 5ms/step - loss: 0.4734 - accuracy: 0.8440 - val_loss: 0.4530 - val_accuracy: 0.7901\n",
      "Epoch 82/200\n",
      "18/18 [==============================] - 0s 7ms/step - loss: 0.4622 - accuracy: 0.8546 - val_loss: 0.4488 - val_accuracy: 0.7901\n",
      "Epoch 83/200\n",
      "18/18 [==============================] - 0s 6ms/step - loss: 0.4686 - accuracy: 0.8422 - val_loss: 0.4436 - val_accuracy: 0.8889\n",
      "Epoch 84/200\n",
      "18/18 [==============================] - 0s 5ms/step - loss: 0.4567 - accuracy: 0.8723 - val_loss: 0.4395 - val_accuracy: 0.8889\n",
      "Epoch 85/200\n",
      "18/18 [==============================] - 0s 5ms/step - loss: 0.4632 - accuracy: 0.8404 - val_loss: 0.4348 - val_accuracy: 0.9383\n",
      "Epoch 86/200\n",
      "18/18 [==============================] - 0s 5ms/step - loss: 0.4464 - accuracy: 0.8652 - val_loss: 0.4305 - val_accuracy: 0.9383\n",
      "Epoch 87/200\n",
      "18/18 [==============================] - 0s 7ms/step - loss: 0.4499 - accuracy: 0.8688 - val_loss: 0.4262 - val_accuracy: 0.9383\n",
      "Epoch 88/200\n",
      "18/18 [==============================] - 0s 5ms/step - loss: 0.4466 - accuracy: 0.8528 - val_loss: 0.4217 - val_accuracy: 0.9506\n",
      "Epoch 89/200\n",
      "18/18 [==============================] - 0s 6ms/step - loss: 0.4452 - accuracy: 0.8688 - val_loss: 0.4168 - val_accuracy: 0.9506\n",
      "Epoch 90/200\n",
      "18/18 [==============================] - 0s 6ms/step - loss: 0.4358 - accuracy: 0.8901 - val_loss: 0.4124 - val_accuracy: 0.9506\n",
      "Epoch 91/200\n",
      "18/18 [==============================] - 0s 8ms/step - loss: 0.4294 - accuracy: 0.9043 - val_loss: 0.4082 - val_accuracy: 0.9506\n",
      "Epoch 92/200\n",
      "18/18 [==============================] - 0s 7ms/step - loss: 0.4301 - accuracy: 0.9060 - val_loss: 0.4032 - val_accuracy: 0.9506\n",
      "Epoch 93/200\n",
      "18/18 [==============================] - 0s 5ms/step - loss: 0.4203 - accuracy: 0.9007 - val_loss: 0.3982 - val_accuracy: 0.9588\n",
      "Epoch 94/200\n",
      "18/18 [==============================] - 0s 5ms/step - loss: 0.4256 - accuracy: 0.8972 - val_loss: 0.3936 - val_accuracy: 0.9588\n",
      "Epoch 95/200\n",
      "18/18 [==============================] - 0s 6ms/step - loss: 0.4185 - accuracy: 0.9096 - val_loss: 0.3890 - val_accuracy: 0.9588\n",
      "Epoch 96/200\n",
      "18/18 [==============================] - 0s 8ms/step - loss: 0.4133 - accuracy: 0.9043 - val_loss: 0.3843 - val_accuracy: 0.9588\n",
      "Epoch 97/200\n",
      "18/18 [==============================] - 0s 12ms/step - loss: 0.4083 - accuracy: 0.9149 - val_loss: 0.3792 - val_accuracy: 0.9588\n",
      "Epoch 98/200\n",
      "18/18 [==============================] - 0s 5ms/step - loss: 0.3965 - accuracy: 0.9309 - val_loss: 0.3745 - val_accuracy: 0.9588\n",
      "Epoch 99/200\n",
      "18/18 [==============================] - 0s 5ms/step - loss: 0.3958 - accuracy: 0.9202 - val_loss: 0.3700 - val_accuracy: 0.9588\n",
      "Epoch 100/200\n",
      "18/18 [==============================] - 0s 5ms/step - loss: 0.3966 - accuracy: 0.9184 - val_loss: 0.3642 - val_accuracy: 0.9588\n",
      "Epoch 101/200\n",
      "18/18 [==============================] - 0s 7ms/step - loss: 0.3898 - accuracy: 0.9220 - val_loss: 0.3593 - val_accuracy: 0.9588\n",
      "Epoch 102/200\n",
      "18/18 [==============================] - 0s 6ms/step - loss: 0.3849 - accuracy: 0.9238 - val_loss: 0.3544 - val_accuracy: 0.9588\n",
      "Epoch 103/200\n",
      "18/18 [==============================] - 0s 7ms/step - loss: 0.3729 - accuracy: 0.9273 - val_loss: 0.3504 - val_accuracy: 0.9588\n",
      "Epoch 104/200\n",
      "18/18 [==============================] - 0s 5ms/step - loss: 0.3782 - accuracy: 0.9291 - val_loss: 0.3454 - val_accuracy: 0.9588\n",
      "Epoch 105/200\n",
      "18/18 [==============================] - 0s 5ms/step - loss: 0.3759 - accuracy: 0.9273 - val_loss: 0.3401 - val_accuracy: 0.9588\n",
      "Epoch 106/200\n",
      "18/18 [==============================] - 0s 5ms/step - loss: 0.3713 - accuracy: 0.9255 - val_loss: 0.3352 - val_accuracy: 0.9588\n",
      "Epoch 107/200\n",
      "18/18 [==============================] - 0s 5ms/step - loss: 0.3652 - accuracy: 0.9344 - val_loss: 0.3310 - val_accuracy: 0.9588\n",
      "Epoch 108/200\n",
      "18/18 [==============================] - 0s 7ms/step - loss: 0.3632 - accuracy: 0.9344 - val_loss: 0.3264 - val_accuracy: 0.9588\n",
      "Epoch 109/200\n",
      "18/18 [==============================] - 0s 5ms/step - loss: 0.3604 - accuracy: 0.9309 - val_loss: 0.3221 - val_accuracy: 0.9588\n",
      "Epoch 110/200\n",
      "18/18 [==============================] - 0s 5ms/step - loss: 0.3572 - accuracy: 0.9309 - val_loss: 0.3173 - val_accuracy: 0.9588\n",
      "Epoch 111/200\n",
      "18/18 [==============================] - 0s 7ms/step - loss: 0.3549 - accuracy: 0.9362 - val_loss: 0.3126 - val_accuracy: 0.9588\n",
      "Epoch 112/200\n",
      "18/18 [==============================] - 0s 6ms/step - loss: 0.3489 - accuracy: 0.9379 - val_loss: 0.3080 - val_accuracy: 0.9588\n",
      "Epoch 113/200\n",
      "18/18 [==============================] - 0s 5ms/step - loss: 0.3378 - accuracy: 0.9379 - val_loss: 0.3034 - val_accuracy: 0.9588\n",
      "Epoch 114/200\n",
      "18/18 [==============================] - 0s 6ms/step - loss: 0.3380 - accuracy: 0.9362 - val_loss: 0.2988 - val_accuracy: 0.9588\n",
      "Epoch 115/200\n",
      "18/18 [==============================] - 0s 6ms/step - loss: 0.3302 - accuracy: 0.9397 - val_loss: 0.2938 - val_accuracy: 0.9588\n",
      "Epoch 116/200\n",
      "18/18 [==============================] - 0s 6ms/step - loss: 0.3253 - accuracy: 0.9362 - val_loss: 0.2894 - val_accuracy: 0.9588\n",
      "Epoch 117/200\n",
      "18/18 [==============================] - 0s 6ms/step - loss: 0.3229 - accuracy: 0.9344 - val_loss: 0.2853 - val_accuracy: 0.9588\n",
      "Epoch 118/200\n",
      "18/18 [==============================] - 0s 5ms/step - loss: 0.3219 - accuracy: 0.9379 - val_loss: 0.2812 - val_accuracy: 0.9588\n",
      "Epoch 119/200\n",
      "18/18 [==============================] - 0s 5ms/step - loss: 0.3198 - accuracy: 0.9397 - val_loss: 0.2776 - val_accuracy: 0.9588\n",
      "Epoch 120/200\n",
      "18/18 [==============================] - 0s 5ms/step - loss: 0.3107 - accuracy: 0.9379 - val_loss: 0.2737 - val_accuracy: 0.9588\n",
      "Epoch 121/200\n",
      "18/18 [==============================] - 0s 7ms/step - loss: 0.3229 - accuracy: 0.9379 - val_loss: 0.2697 - val_accuracy: 0.9588\n",
      "Epoch 122/200\n",
      "18/18 [==============================] - 0s 7ms/step - loss: 0.3184 - accuracy: 0.9379 - val_loss: 0.2661 - val_accuracy: 0.9588\n",
      "Epoch 123/200\n",
      "18/18 [==============================] - 0s 5ms/step - loss: 0.3084 - accuracy: 0.9397 - val_loss: 0.2628 - val_accuracy: 0.9588\n",
      "Epoch 124/200\n",
      "18/18 [==============================] - 0s 5ms/step - loss: 0.3085 - accuracy: 0.9379 - val_loss: 0.2595 - val_accuracy: 0.9588\n",
      "Epoch 125/200\n",
      "18/18 [==============================] - 0s 6ms/step - loss: 0.3004 - accuracy: 0.9362 - val_loss: 0.2560 - val_accuracy: 0.9588\n",
      "Epoch 126/200\n",
      "18/18 [==============================] - 0s 6ms/step - loss: 0.3029 - accuracy: 0.9379 - val_loss: 0.2524 - val_accuracy: 0.9588\n",
      "Epoch 127/200\n",
      "18/18 [==============================] - 0s 6ms/step - loss: 0.2940 - accuracy: 0.9362 - val_loss: 0.2492 - val_accuracy: 0.9588\n",
      "Epoch 128/200\n",
      "18/18 [==============================] - 0s 6ms/step - loss: 0.2941 - accuracy: 0.9379 - val_loss: 0.2461 - val_accuracy: 0.9588\n",
      "Epoch 129/200\n",
      "18/18 [==============================] - 0s 5ms/step - loss: 0.2904 - accuracy: 0.9379 - val_loss: 0.2435 - val_accuracy: 0.9588\n",
      "Epoch 130/200\n",
      "18/18 [==============================] - 0s 5ms/step - loss: 0.2846 - accuracy: 0.9379 - val_loss: 0.2408 - val_accuracy: 0.9588\n",
      "Epoch 131/200\n",
      "18/18 [==============================] - 0s 10ms/step - loss: 0.2870 - accuracy: 0.9362 - val_loss: 0.2369 - val_accuracy: 0.9588\n",
      "Epoch 132/200\n",
      "18/18 [==============================] - 0s 9ms/step - loss: 0.2783 - accuracy: 0.9379 - val_loss: 0.2341 - val_accuracy: 0.9588\n",
      "Epoch 133/200\n",
      "18/18 [==============================] - 0s 6ms/step - loss: 0.2816 - accuracy: 0.9379 - val_loss: 0.2314 - val_accuracy: 0.9588\n",
      "Epoch 134/200\n",
      "18/18 [==============================] - 0s 5ms/step - loss: 0.2782 - accuracy: 0.9379 - val_loss: 0.2286 - val_accuracy: 0.9588\n",
      "Epoch 135/200\n",
      "18/18 [==============================] - 0s 6ms/step - loss: 0.2763 - accuracy: 0.9397 - val_loss: 0.2262 - val_accuracy: 0.9588\n",
      "Epoch 136/200\n",
      "18/18 [==============================] - 0s 6ms/step - loss: 0.2770 - accuracy: 0.9397 - val_loss: 0.2234 - val_accuracy: 0.9588\n",
      "Epoch 137/200\n",
      "18/18 [==============================] - 0s 6ms/step - loss: 0.2703 - accuracy: 0.9397 - val_loss: 0.2212 - val_accuracy: 0.9588\n",
      "Epoch 138/200\n",
      "18/18 [==============================] - 0s 7ms/step - loss: 0.2751 - accuracy: 0.9379 - val_loss: 0.2187 - val_accuracy: 0.9588\n",
      "Epoch 139/200\n",
      "18/18 [==============================] - 0s 5ms/step - loss: 0.2734 - accuracy: 0.9379 - val_loss: 0.2166 - val_accuracy: 0.9588\n",
      "Epoch 140/200\n",
      "18/18 [==============================] - 0s 5ms/step - loss: 0.2698 - accuracy: 0.9379 - val_loss: 0.2155 - val_accuracy: 0.9588\n",
      "Epoch 141/200\n",
      "18/18 [==============================] - 0s 5ms/step - loss: 0.2695 - accuracy: 0.9379 - val_loss: 0.2130 - val_accuracy: 0.9588\n",
      "Epoch 142/200\n",
      "18/18 [==============================] - 0s 6ms/step - loss: 0.2681 - accuracy: 0.9379 - val_loss: 0.2106 - val_accuracy: 0.9588\n",
      "Epoch 143/200\n",
      "18/18 [==============================] - 0s 5ms/step - loss: 0.2701 - accuracy: 0.9397 - val_loss: 0.2089 - val_accuracy: 0.9588\n",
      "Epoch 144/200\n",
      "18/18 [==============================] - 0s 5ms/step - loss: 0.2690 - accuracy: 0.9379 - val_loss: 0.2077 - val_accuracy: 0.9588\n",
      "Epoch 145/200\n",
      "18/18 [==============================] - 0s 5ms/step - loss: 0.2564 - accuracy: 0.9379 - val_loss: 0.2062 - val_accuracy: 0.9588\n",
      "Epoch 146/200\n",
      "18/18 [==============================] - 0s 6ms/step - loss: 0.2631 - accuracy: 0.9379 - val_loss: 0.2047 - val_accuracy: 0.9588\n",
      "Epoch 147/200\n",
      "18/18 [==============================] - 0s 7ms/step - loss: 0.2593 - accuracy: 0.9362 - val_loss: 0.2035 - val_accuracy: 0.9588\n",
      "Epoch 148/200\n",
      "18/18 [==============================] - 0s 6ms/step - loss: 0.2655 - accuracy: 0.9379 - val_loss: 0.2018 - val_accuracy: 0.9588\n",
      "Epoch 149/200\n",
      "18/18 [==============================] - 0s 5ms/step - loss: 0.2670 - accuracy: 0.9397 - val_loss: 0.1999 - val_accuracy: 0.9588\n",
      "Epoch 150/200\n",
      "18/18 [==============================] - 0s 7ms/step - loss: 0.2588 - accuracy: 0.9379 - val_loss: 0.1981 - val_accuracy: 0.9588\n",
      "Epoch 151/200\n",
      "18/18 [==============================] - 0s 6ms/step - loss: 0.2571 - accuracy: 0.9379 - val_loss: 0.1969 - val_accuracy: 0.9588\n",
      "Epoch 152/200\n",
      "18/18 [==============================] - 0s 5ms/step - loss: 0.2475 - accuracy: 0.9397 - val_loss: 0.1954 - val_accuracy: 0.9588\n",
      "Epoch 153/200\n",
      "18/18 [==============================] - 0s 5ms/step - loss: 0.2534 - accuracy: 0.9379 - val_loss: 0.1946 - val_accuracy: 0.9588\n",
      "Epoch 154/200\n",
      "18/18 [==============================] - 0s 5ms/step - loss: 0.2540 - accuracy: 0.9379 - val_loss: 0.1934 - val_accuracy: 0.9588\n",
      "Epoch 155/200\n",
      "18/18 [==============================] - 0s 5ms/step - loss: 0.2569 - accuracy: 0.9379 - val_loss: 0.1919 - val_accuracy: 0.9588\n",
      "Epoch 156/200\n",
      "18/18 [==============================] - 0s 5ms/step - loss: 0.2573 - accuracy: 0.9397 - val_loss: 0.1921 - val_accuracy: 0.9588\n",
      "Epoch 157/200\n",
      "18/18 [==============================] - 0s 5ms/step - loss: 0.2578 - accuracy: 0.9397 - val_loss: 0.1915 - val_accuracy: 0.9588\n",
      "Epoch 158/200\n",
      "18/18 [==============================] - 0s 6ms/step - loss: 0.2442 - accuracy: 0.9397 - val_loss: 0.1894 - val_accuracy: 0.9588\n",
      "Epoch 159/200\n",
      "18/18 [==============================] - 0s 6ms/step - loss: 0.2529 - accuracy: 0.9379 - val_loss: 0.1879 - val_accuracy: 0.9588\n",
      "Epoch 160/200\n",
      "18/18 [==============================] - 0s 5ms/step - loss: 0.2519 - accuracy: 0.9379 - val_loss: 0.1883 - val_accuracy: 0.9588\n",
      "Epoch 161/200\n",
      "18/18 [==============================] - 0s 5ms/step - loss: 0.2503 - accuracy: 0.9397 - val_loss: 0.1864 - val_accuracy: 0.9588\n",
      "Epoch 162/200\n",
      "18/18 [==============================] - 0s 6ms/step - loss: 0.2491 - accuracy: 0.9415 - val_loss: 0.1853 - val_accuracy: 0.9588\n",
      "Epoch 163/200\n",
      "18/18 [==============================] - 0s 5ms/step - loss: 0.2529 - accuracy: 0.9379 - val_loss: 0.1859 - val_accuracy: 0.9588\n",
      "Epoch 164/200\n",
      "18/18 [==============================] - 0s 5ms/step - loss: 0.2462 - accuracy: 0.9415 - val_loss: 0.1846 - val_accuracy: 0.9588\n",
      "Epoch 165/200\n",
      "18/18 [==============================] - 0s 5ms/step - loss: 0.2478 - accuracy: 0.9433 - val_loss: 0.1857 - val_accuracy: 0.9588\n",
      "Epoch 166/200\n",
      "18/18 [==============================] - 0s 5ms/step - loss: 0.2453 - accuracy: 0.9397 - val_loss: 0.1843 - val_accuracy: 0.9588\n",
      "Epoch 167/200\n",
      "18/18 [==============================] - 0s 5ms/step - loss: 0.2477 - accuracy: 0.9450 - val_loss: 0.1829 - val_accuracy: 0.9588\n",
      "Epoch 168/200\n",
      "18/18 [==============================] - 0s 5ms/step - loss: 0.2457 - accuracy: 0.9362 - val_loss: 0.1818 - val_accuracy: 0.9588\n",
      "Epoch 169/200\n",
      "18/18 [==============================] - 0s 5ms/step - loss: 0.2422 - accuracy: 0.9415 - val_loss: 0.1820 - val_accuracy: 0.9588\n",
      "Epoch 170/200\n",
      "18/18 [==============================] - 0s 5ms/step - loss: 0.2441 - accuracy: 0.9379 - val_loss: 0.1817 - val_accuracy: 0.9588\n",
      "Epoch 171/200\n",
      "18/18 [==============================] - 0s 6ms/step - loss: 0.2419 - accuracy: 0.9362 - val_loss: 0.1806 - val_accuracy: 0.9588\n",
      "Epoch 172/200\n",
      "18/18 [==============================] - 0s 7ms/step - loss: 0.2421 - accuracy: 0.9433 - val_loss: 0.1793 - val_accuracy: 0.9588\n",
      "Epoch 173/200\n",
      "18/18 [==============================] - 0s 5ms/step - loss: 0.2456 - accuracy: 0.9379 - val_loss: 0.1793 - val_accuracy: 0.9588\n",
      "Epoch 174/200\n",
      "18/18 [==============================] - 0s 5ms/step - loss: 0.2481 - accuracy: 0.9379 - val_loss: 0.1795 - val_accuracy: 0.9588\n",
      "Epoch 175/200\n",
      "18/18 [==============================] - 0s 5ms/step - loss: 0.2430 - accuracy: 0.9450 - val_loss: 0.1780 - val_accuracy: 0.9588\n",
      "Epoch 176/200\n",
      "18/18 [==============================] - 0s 6ms/step - loss: 0.2427 - accuracy: 0.9397 - val_loss: 0.1785 - val_accuracy: 0.9588\n",
      "Epoch 177/200\n",
      "18/18 [==============================] - 0s 7ms/step - loss: 0.2432 - accuracy: 0.9415 - val_loss: 0.1769 - val_accuracy: 0.9588\n",
      "Epoch 178/200\n",
      "18/18 [==============================] - 0s 5ms/step - loss: 0.2464 - accuracy: 0.9397 - val_loss: 0.1785 - val_accuracy: 0.9588\n",
      "Epoch 179/200\n",
      "18/18 [==============================] - 0s 6ms/step - loss: 0.2369 - accuracy: 0.9397 - val_loss: 0.1766 - val_accuracy: 0.9588\n",
      "Epoch 180/200\n",
      "18/18 [==============================] - 0s 6ms/step - loss: 0.2411 - accuracy: 0.9379 - val_loss: 0.1766 - val_accuracy: 0.9588\n",
      "Epoch 181/200\n",
      "18/18 [==============================] - 0s 6ms/step - loss: 0.2425 - accuracy: 0.9397 - val_loss: 0.1755 - val_accuracy: 0.9588\n",
      "Epoch 182/200\n",
      "18/18 [==============================] - 0s 8ms/step - loss: 0.2437 - accuracy: 0.9397 - val_loss: 0.1756 - val_accuracy: 0.9588\n",
      "Epoch 183/200\n",
      "18/18 [==============================] - 0s 8ms/step - loss: 0.2422 - accuracy: 0.9397 - val_loss: 0.1749 - val_accuracy: 0.9588\n",
      "Epoch 184/200\n",
      "18/18 [==============================] - 0s 7ms/step - loss: 0.2421 - accuracy: 0.9415 - val_loss: 0.1759 - val_accuracy: 0.9588\n",
      "Epoch 185/200\n",
      "18/18 [==============================] - 0s 5ms/step - loss: 0.2425 - accuracy: 0.9379 - val_loss: 0.1756 - val_accuracy: 0.9588\n",
      "Epoch 186/200\n",
      "18/18 [==============================] - 0s 6ms/step - loss: 0.2369 - accuracy: 0.9379 - val_loss: 0.1743 - val_accuracy: 0.9588\n",
      "Epoch 187/200\n",
      "18/18 [==============================] - 0s 6ms/step - loss: 0.2389 - accuracy: 0.9397 - val_loss: 0.1739 - val_accuracy: 0.9588\n",
      "Epoch 188/200\n",
      "18/18 [==============================] - 0s 6ms/step - loss: 0.2436 - accuracy: 0.9415 - val_loss: 0.1777 - val_accuracy: 0.9588\n",
      "Epoch 189/200\n",
      "18/18 [==============================] - 0s 6ms/step - loss: 0.2382 - accuracy: 0.9379 - val_loss: 0.1746 - val_accuracy: 0.9588\n",
      "Epoch 190/200\n",
      "18/18 [==============================] - 0s 8ms/step - loss: 0.2442 - accuracy: 0.9433 - val_loss: 0.1734 - val_accuracy: 0.9588\n",
      "Epoch 191/200\n",
      "18/18 [==============================] - 0s 6ms/step - loss: 0.2341 - accuracy: 0.9415 - val_loss: 0.1724 - val_accuracy: 0.9588\n",
      "Epoch 192/200\n",
      "18/18 [==============================] - 0s 5ms/step - loss: 0.2463 - accuracy: 0.9379 - val_loss: 0.1737 - val_accuracy: 0.9588\n",
      "Epoch 193/200\n",
      "18/18 [==============================] - 0s 5ms/step - loss: 0.2372 - accuracy: 0.9433 - val_loss: 0.1740 - val_accuracy: 0.9588\n",
      "Epoch 194/200\n",
      "18/18 [==============================] - 0s 6ms/step - loss: 0.2416 - accuracy: 0.9433 - val_loss: 0.1731 - val_accuracy: 0.9588\n",
      "Epoch 195/200\n",
      "18/18 [==============================] - 0s 7ms/step - loss: 0.2371 - accuracy: 0.9397 - val_loss: 0.1716 - val_accuracy: 0.9588\n",
      "Epoch 196/200\n",
      "18/18 [==============================] - 0s 5ms/step - loss: 0.2495 - accuracy: 0.9415 - val_loss: 0.1717 - val_accuracy: 0.9588\n",
      "Epoch 197/200\n",
      "18/18 [==============================] - 0s 5ms/step - loss: 0.2457 - accuracy: 0.9415 - val_loss: 0.1723 - val_accuracy: 0.9588\n",
      "Epoch 198/200\n",
      "18/18 [==============================] - 0s 5ms/step - loss: 0.2432 - accuracy: 0.9397 - val_loss: 0.1716 - val_accuracy: 0.9588\n",
      "Epoch 199/200\n",
      "18/18 [==============================] - 0s 9ms/step - loss: 0.2402 - accuracy: 0.9379 - val_loss: 0.1714 - val_accuracy: 0.9588\n",
      "Epoch 200/200\n",
      "18/18 [==============================] - 0s 8ms/step - loss: 0.2399 - accuracy: 0.9397 - val_loss: 0.1725 - val_accuracy: 0.9588\n"
     ]
    }
   ],
   "source": [
    "history = rain_forecast_model.fit(x_train, y_train, validation_split=0.3, epochs=200)"
   ]
  },
  {
   "cell_type": "code",
   "execution_count": 156,
   "metadata": {},
   "outputs": [
    {
     "data": {
      "text/plain": [
       "<matplotlib.legend.Legend at 0x1d15516cd30>"
      ]
     },
     "execution_count": 156,
     "metadata": {},
     "output_type": "execute_result"
    },
    {
     "data": {
      "image/png": "[encoded data removed]",
      "text/plain": [
       "<Figure size 432x288 with 2 Axes>"
      ]
     },
     "metadata": {
      "needs_background": "light"
     },
     "output_type": "display_data"
    }
   ],
   "source": [
    "plt.subplot(2, 2, 1)\n",
    "plt.plot(history.history['accuracy'], label='accuracy')\n",
    "plt.plot(history.history['val_accuracy'], label='val_accuracy')\n",
    "plt.title('Accuracy Function Evolution')\n",
    "plt.legend()\n",
    "\n",
    "plt.subplot(2, 2, 2)\n",
    "plt.plot(history.history['loss'], label='loss')\n",
    "plt.plot(history.history['val_loss'], label='val_loss')\n",
    "plt.title('Loss Function Evolution')\n",
    "plt.legend()"
   ]
  },
  {
   "cell_type": "code",
   "execution_count": 157,
   "metadata": {},
   "outputs": [
    {
     "name": "stdout",
     "output_type": "stream",
     "text": [
      "[0 0 0 1 1 1 0 1 1 1 0 0 1 0 1 0 1 0 1 1 1 0 0 1 0 1 0 1 1 1 0 0 0 0 0 0 0\n",
      " 0 1 0 1 0 1 1 1 0 0 0 1 0 1 0 0 1 0 0 0 1 0 0 1 1 1 1 1 0 0 0 1 1 0 0 0 1\n",
      " 1 0 0 1 1 1 0 0 1 1 1 0 0 1 0 0 0 0 0 1 1 1 1 0 1 0 1 1 1 0 1 0 0 1 0 1 0\n",
      " 1 0 1 1 1 0 1 1 0 1 1 1 0 0 0 0 0 1 0 0 1 0 0 0 0 1 1 1 1 0 1 0 0 0 0 0 0\n",
      " 0 0 1 1 1 0 1 0 0 0 1 1 1 1 0 1 0 1 1 1 1 1 1 0 0 0 0 1 1 1 0 1 0 1 1 0 0\n",
      " 1 0 0 1 1 0 1 1 1 1 0 0 1 0 0 0 1 1 1 1 1 0 0 1 1 0 1 0 1 0 1 0 1 0 1 0 1\n",
      " 0 0 1 0 1 1 1 1 0 1 1 1 0 0 1 1 0 0 0 1 0 0 0 0 0 1 0 1 0 0 1 0 1 0 1 1 0\n",
      " 0 0 1 0 0 0 0 0 0 0 1 0 0 1 1 0 1 0 1 1 0 0 1 0 0 0 0 1 0 1 0 1 0 1 1 0 0\n",
      " 0 0 1 0 0 1 1 0 0 0 1 1 0 1 1 0 0 0 0 1 1 0 0 0 0 1 0 1 1 0 0 1 1 1 1 1 0\n",
      " 1 0 1 1 0 1 1 1 0 1 1 1 1]\n"
     ]
    }
   ],
   "source": [
    "predictions = rain_forecast_model.predict(x_test)\n",
    "rain_pred = []\n",
    "for pred in predictions:\n",
    "    if pred[0] >= 0.5:\n",
    "        rain_pred.append(1)\n",
    "    else:\n",
    "        rain_pred.append(0)\n",
    "rain_pred = np.array(rain_pred)\n",
    "print(rain_pred)"
   ]
  },
  {
   "cell_type": "code",
   "execution_count": 158,
   "metadata": {},
   "outputs": [
    {
     "name": "stdout",
     "output_type": "stream",
     "text": [
      "Mean Absolute Error: 0.06936416184971098\n",
      "Mean Squared Error: 0.06936416184971098\n",
      "Root Mean Squared Error: 0.26337076878368826\n"
     ]
    }
   ],
   "source": [
    "# print(predictions.astype(int))\n",
    "print('Mean Absolute Error:', metrics.mean_absolute_error(y_test, rain_pred))\n",
    "print('Mean Squared Error:', metrics.mean_squared_error(y_test, rain_pred))\n",
    "print('Root Mean Squared Error:', np.sqrt(metrics.mean_squared_error(y_test, rain_pred)))"
   ]
  },
  {
   "cell_type": "markdown",
   "metadata": {},
   "source": [
    "## Accuracy"
   ]
  },
  {
   "cell_type": "code",
   "execution_count": 159,
   "metadata": {},
   "outputs": [
    {
     "name": "stdout",
     "output_type": "stream",
     "text": [
      "0.930635838150289\n"
     ]
    }
   ],
   "source": [
    "model_accuracy = accuracy_score(y_test, rain_pred)\n",
    "print(model_accuracy)"
   ]
  },
  {
   "cell_type": "markdown",
   "metadata": {},
   "source": [
    "## Saving Model"
   ]
  },
  {
   "cell_type": "code",
   "execution_count": 176,
   "metadata": {},
   "outputs": [],
   "source": [
    "rain_forecast_model.save(\"rain_forcast_ANN_model.h5\")"
   ]
  },
  {
   "cell_type": "markdown",
   "metadata": {},
   "source": [
    "## Loading Rain Model and Making Predictions"
   ]
  },
  {
   "cell_type": "code",
   "execution_count": 179,
   "metadata": {},
   "outputs": [],
   "source": [
    "from tensorflow.keras import models\n",
    "rain_model = models.load_model(\"rain_forcast_ANN_model.h5\")"
   ]
  },
  {
   "cell_type": "code",
   "execution_count": 180,
   "metadata": {},
   "outputs": [
    {
     "data": {
      "text/plain": [
       "array([[0.9671391],\n",
       "       [0.2766055],\n",
       "       [0.9827765]], dtype=float32)"
      ]
     },
     "execution_count": 180,
     "metadata": {},
     "output_type": "execute_result"
    }
   ],
   "source": [
    "example = [[0.33333333, 0.35849057, 0.96346154],\n",
    "[0.16666667, 0.8490566 , 0.94807692],\n",
    "[0.15333333, 0.50000, 0.90538462]]\n",
    "rain_model.predict(example)"
   ]
  },
  {
   "cell_type": "code",
   "execution_count": null,
   "metadata": {},
   "outputs": [],
   "source": []
  },
  {
   "cell_type": "code",
   "execution_count": null,
   "metadata": {},
   "outputs": [],
   "source": []
  },
  {
   "cell_type": "code",
   "execution_count": null,
   "metadata": {},
   "outputs": [],
   "source": []
  },
  {
   "cell_type": "markdown",
   "metadata": {},
   "source": [
    "#### Temperature Model Predictions"
   ]
  },
  {
   "cell_type": "code",
   "execution_count": 186,
   "metadata": {},
   "outputs": [
    {
     "data": {
      "text/plain": [
       "array([29.])"
      ]
     },
     "execution_count": 186,
     "metadata": {},
     "output_type": "execute_result"
    }
   ],
   "source": [
    "import joblib\n",
    "temp_model = joblib.load(\"RandomForestRegressorTemperature.joblib\")\n",
    "day1 = 2022, 6, 17, 11, 00\n",
    "day2 = 2022, 6, 18, 11, 00\n",
    "day3 = 2022, 6, 19, 11, 00\n",
    "day4 = 2022, 6, 20, 11, 00\n",
    "temp_model.predict([list(day1)])"
   ]
  }
 ],
 "metadata": {
  "kernelspec": {
   "display_name": "Python 3.10.2 64-bit",
   "language": "python",
   "name": "python3"
  },
  "language_info": {
   "codemirror_mode": {
    "name": "ipython",
    "version": 3
   },
   "file_extension": ".py",
   "mimetype": "text/x-python",
   "name": "python",
   "nbconvert_exporter": "python",
   "pygments_lexer": "ipython3",
   "version": "3.10.2"
  },
  "orig_nbformat": 4,
  "vscode": {
   "interpreter": {
    "hash": "76d7c06053c3456e5600312cec90888656fc0ed30c03d8425b9dac6e4fc8e014"
   }
  }
 },
 "nbformat": 4,
 "nbformat_minor": 2
}
